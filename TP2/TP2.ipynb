{
  "cells": [
    {
      "cell_type": "markdown",
      "source": [
        "# Código de inicialización\n",
        "Este código permite inicializar las bibliotecas para usar SQLite en la máquina virtual de Google Colab. El código además elimina cualquier dato almacenado anteriormente en el archvio `ejemplos.db`. Es recomendable volver a correr el código cada vez que se comience con la resolución de un nuevo ejercicio."
      ],
      "metadata": {
        "id": "QuMn1Lbbdz7p"
      },
      "id": "QuMn1Lbbdz7p"
    },
    {
      "cell_type": "code",
      "execution_count": 1,
      "metadata": {
        "id": "IFHmq0oNKLZQ",
        "colab": {
          "base_uri": "https://localhost:8080/"
        },
        "outputId": "19d41326-d7a7-466e-e531-31eeb2f3fdf9"
      },
      "outputs": [
        {
          "output_type": "stream",
          "name": "stdout",
          "text": [
            "Collecting pymysql\n",
            "  Downloading PyMySQL-1.1.1-py3-none-any.whl.metadata (4.4 kB)\n",
            "Downloading PyMySQL-1.1.1-py3-none-any.whl (44 kB)\n",
            "\u001b[?25l   \u001b[90m━━━━━━━━━━━━━━━━━━━━━━━━━━━━━━━━━━━━━━━━\u001b[0m \u001b[32m0.0/45.0 kB\u001b[0m \u001b[31m?\u001b[0m eta \u001b[36m-:--:--\u001b[0m\r\u001b[2K   \u001b[90m━━━━━━━━━━━━━━━━━━━━━━━━━━━━━━━━━━━━━━━━\u001b[0m \u001b[32m45.0/45.0 kB\u001b[0m \u001b[31m1.5 MB/s\u001b[0m eta \u001b[36m0:00:00\u001b[0m\n",
            "\u001b[?25hInstalling collected packages: pymysql\n",
            "Successfully installed pymysql-1.1.1\n"
          ]
        }
      ],
      "source": [
        "!pip install pymysql\n",
        "%load_ext sql\n",
        "!rm -rf ejemplos.db\n",
        "%sql sqlite:///ejemplos.db"
      ],
      "id": "IFHmq0oNKLZQ"
    },
    {
      "cell_type": "markdown",
      "id": "4bfd6149",
      "metadata": {
        "id": "4bfd6149"
      },
      "source": [
        "# TP2: Ejercicios de SQL"
      ]
    },
    {
      "cell_type": "markdown",
      "id": "75f13c80",
      "metadata": {
        "id": "75f13c80"
      },
      "source": [
        "\n",
        "## EJERCICIO 1:  Base de datos para un club náutico\n",
        "\n",
        "### Descripción:\n",
        "Se quiere diseñar una base de datos relacional para gestionar los datos de los socios de un club náutico. De cada socio se guardan los datos personales y la información de los barcos que posee:\n",
        "- Número de matrícula, nombre, número de amarre, cuota.\n",
        "\n",
        "Además, se almacena información sobre las salidas realizadas por cada barco:\n",
        "- Fecha y hora de salida, destino y datos del patrón (que no tiene que ser el propietario ni un socio del club).\n",
        "\n",
        "### Esquema propuesto:\n",
        "- Tabla `Socios`: Almacena la información de los socios del club.\n",
        "- Tabla `Barcos`: Almacena la información de los barcos y sus propietarios.\n",
        "- Tabla `Salidas`: Almacena la información de las salidas realizadas por los barcos.\n",
        "\n",
        "### Esquema de tablas\n",
        "Este sería el esquema de tablas en lenguaje DBML\n",
        "\n",
        "```dbml\n",
        "Table Socios {\n",
        "    id_socio INT [pk]\n",
        "    nombre VARCHAR(100)\n",
        "    direccion VARCHAR(255)\n",
        "}\n",
        "\n",
        "Table Barcos {\n",
        "    matricula VARCHAR(20) [pk]\n",
        "    nombre VARCHAR(100)\n",
        "    numero_amarre INT\n",
        "    cuota DECIMAL(10, 2)\n",
        "    id_socio INT [ref: > Socios.id_socio]\n",
        "}\n",
        "\n",
        "Table Salidas {\n",
        "    id_salida INT [pk]\n",
        "    matricula VARCHAR(20) [ref: > Barcos.matricula]\n",
        "    fecha_salida DATE\n",
        "    hora_salida TIME\n",
        "    destino VARCHAR(100)\n",
        "    patron_nombre VARCHAR(100)\n",
        "    patron_direccion VARCHAR(255)\n",
        "}\n",
        "```\n",
        "\n",
        "### Escriba abajo el código SQL necesario para crear las tablas:\n",
        "\n"
      ]
    },
    {
      "cell_type": "code",
      "source": [
        "%%sql\n",
        "-- Creación de las tabla Socios\n",
        "CREATE TABLE Socios (\n",
        "    id_socio INT PRIMARY KEY,\n",
        "    nombre VARCHAR(100),\n",
        "    direccion VARCHAR(255)\n",
        ");\n",
        "\n",
        "-- Creación de las tabla Barcos\n",
        "CREATE TABLE Barcos (\n",
        "    matricula VARCHAR(20) PRIMARY KEY,\n",
        "    nombre VARCHAR(100),\n",
        "    numero_amarre INT,\n",
        "    cuota DECIMAL(10, 2),\n",
        "    id_socio INT,\n",
        "    FOREIGN KEY (id_socio) REFERENCES Socios(id_socio)\n",
        ");\n",
        "\n",
        "-- Creación de las tabla Salidas\n",
        "CREATE TABLE Salidas (\n",
        "    id_salida INT PRIMARY KEY,\n",
        "    matricula VARCHAR(20),\n",
        "    fecha_salida DATE,\n",
        "    hora_salida TIME,\n",
        "    destino VARCHAR(100),\n",
        "    patron_nombre VARCHAR(100),\n",
        "    patron_direccion VARCHAR(255),\n",
        "    FOREIGN KEY (matricula) REFERENCES Barcos(matricula)\n",
        ");"
      ],
      "metadata": {
        "id": "WQJ1ZlDikHxc",
        "colab": {
          "base_uri": "https://localhost:8080/"
        },
        "outputId": "65231096-0cf2-4e41-a1d6-ea459676988f"
      },
      "id": "WQJ1ZlDikHxc",
      "execution_count": 2,
      "outputs": [
        {
          "output_type": "stream",
          "name": "stdout",
          "text": [
            " * sqlite:///ejemplos.db\n",
            "Done.\n",
            "Done.\n",
            "Done.\n"
          ]
        },
        {
          "output_type": "execute_result",
          "data": {
            "text/plain": [
              "[]"
            ]
          },
          "metadata": {},
          "execution_count": 2
        }
      ]
    },
    {
      "cell_type": "markdown",
      "source": [
        "El código SQL de abajo le permite popular (es decir, rellenar) las tablas con datos."
      ],
      "metadata": {
        "id": "CvWQCFgMw6Aw"
      },
      "id": "CvWQCFgMw6Aw"
    },
    {
      "cell_type": "code",
      "source": [
        "%%sql\n",
        "-- Populación de las tablas\n",
        "INSERT INTO Socios (id_socio, nombre, direccion)\n",
        "VALUES\n",
        "(1, 'Juan Pérez', 'Calle Mayor 1, Madrid'),\n",
        "(2, 'Ana García', 'Calle Luna 5, Barcelona'),\n",
        "(3, 'Luis Fernández', 'Avenida del Sol 10, Valencia'),\n",
        "(4, 'Laura Sánchez', 'Plaza del Mar 3, Alicante'),\n",
        "(5, 'Carlos López', 'Calle Río 8, Sevilla'),\n",
        "(6, 'Marta Díaz', 'Calle de la Sierra 12, Zaragoza'),\n",
        "(7, 'Pedro Gómez', 'Calle Nueva 20, Bilbao'),\n",
        "(8, 'Lucía Jiménez', 'Calle Real 30, Madrid'),\n",
        "(9, 'María Torres', 'Calle Verde 15, Málaga'),\n",
        "(10, 'Fernando Martín', 'Calle Azul 25, Murcia');\n",
        "\n",
        "INSERT INTO Barcos (matricula, nombre, numero_amarre, cuota, id_socio)\n",
        "VALUES\n",
        "('ABC123', 'El Viento', 12, 600.50, 1),\n",
        "('DEF456', 'La Brisa', 8, 450.00, 2),\n",
        "('GHI789', 'El Sol', 15, 700.00, 3),\n",
        "('JKL012', 'El Mar', 10, 550.75, 4),\n",
        "('MNO345', 'La Luna', 18, 620.30, 5),\n",
        "('PQR678', 'El Horizonte', 20, 780.90, 6),\n",
        "('STU901', 'El Amanecer', 5, 400.00, 7),\n",
        "('VWX234', 'La Estrella', 7, 520.50, 8),\n",
        "('YZA567', 'La Marea', 14, 480.75, 9),\n",
        "('BCD890', 'El Océano', 6, 630.80, 10);\n",
        "\n",
        "INSERT INTO Salidas (id_salida, matricula, fecha_salida, hora_salida, destino, patron_nombre, patron_direccion)\n",
        "VALUES\n",
        "(1, 'ABC123', '2023-07-15', '10:30:00', 'Mallorca', 'Patrón 1', 'Calle de la Playa 1, Palma'),\n",
        "(2, 'DEF456', '2023-07-20', '09:00:00', 'Ibiza', 'Patrón 2', 'Avenida del Puerto 3, Valencia'),\n",
        "(3, 'GHI789', '2023-07-22', '08:45:00', 'Menorca', 'Patrón 3', 'Calle de la Costa 10, Alicante'),\n",
        "(4, 'JKL012', '2023-07-25', '11:15:00', 'Mallorca', 'Patrón 4', 'Plaza del Faro 5, Barcelona'),\n",
        "(5, 'MNO345', '2023-08-01', '14:00:00', 'Formentera', 'Patrón 5', 'Calle del Puerto 20, Ibiza'),\n",
        "(6, 'PQR678', '2023-08-05', '07:30:00', 'Mallorca', 'Patrón 6', 'Calle de las Olas 15, Palma'),\n",
        "(7, 'STU901', '2023-08-10', '12:00:00', 'Ibiza', 'Patrón 7', 'Avenida de la Marina 7, Barcelona'),\n",
        "(8, 'VWX234', '2023-08-12', '09:30:00', 'Cabrera', 'Patrón 8', 'Calle del Mar 12, Alicante'),\n",
        "(9, 'YZA567', '2023-08-15', '10:00:00', 'Formentera', 'Patrón 9', 'Calle del Sol 4, Ibiza'),\n",
        "(10, 'BCD890', '2023-08-20', '08:00:00', 'Menorca', 'Patrón 10', 'Plaza del Faro 2, Palma');\n"
      ],
      "metadata": {
        "id": "mGeEPoC8luIN",
        "colab": {
          "base_uri": "https://localhost:8080/"
        },
        "outputId": "febae4a0-2537-4e43-b6e1-ac62f2a7f669"
      },
      "id": "mGeEPoC8luIN",
      "execution_count": 3,
      "outputs": [
        {
          "output_type": "stream",
          "name": "stdout",
          "text": [
            " * sqlite:///ejemplos.db\n",
            "10 rows affected.\n",
            "10 rows affected.\n",
            "10 rows affected.\n"
          ]
        },
        {
          "output_type": "execute_result",
          "data": {
            "text/plain": [
              "[]"
            ]
          },
          "metadata": {},
          "execution_count": 3
        }
      ]
    },
    {
      "cell_type": "markdown",
      "source": [
        "### Resolver estas consignas sin usar JOIN:\n",
        "Estas consirgnas deben resolverse usando lo visto en la clase del lunes 16/09 antes de ver la parte de JOIN. Esto es: subconsultas, etc.\n",
        "1. ¿Qué socios tienen barcos amarrados en un número de amarre mayor que 10?"
      ],
      "metadata": {
        "id": "0ofA3-cklW_5"
      },
      "id": "0ofA3-cklW_5"
    },
    {
      "cell_type": "code",
      "source": [
        "%%sql\n",
        "-- Ejercicio 1.1 s/Join\n",
        "SELECT id_socio FROM Barcos WHERE numero_amarre > 10;"
      ],
      "metadata": {
        "id": "Kbdb2-U7lbJo",
        "colab": {
          "base_uri": "https://localhost:8080/",
          "height": 179
        },
        "outputId": "fbe9a525-e2fd-45f3-ccea-a2de918014b4"
      },
      "id": "Kbdb2-U7lbJo",
      "execution_count": 4,
      "outputs": [
        {
          "output_type": "stream",
          "name": "stdout",
          "text": [
            " * sqlite:///ejemplos.db\n",
            "Done.\n"
          ]
        },
        {
          "output_type": "execute_result",
          "data": {
            "text/plain": [
              "[(1,), (3,), (5,), (6,), (9,)]"
            ],
            "text/html": [
              "<table>\n",
              "    <thead>\n",
              "        <tr>\n",
              "            <th>id_socio</th>\n",
              "        </tr>\n",
              "    </thead>\n",
              "    <tbody>\n",
              "        <tr>\n",
              "            <td>1</td>\n",
              "        </tr>\n",
              "        <tr>\n",
              "            <td>3</td>\n",
              "        </tr>\n",
              "        <tr>\n",
              "            <td>5</td>\n",
              "        </tr>\n",
              "        <tr>\n",
              "            <td>6</td>\n",
              "        </tr>\n",
              "        <tr>\n",
              "            <td>9</td>\n",
              "        </tr>\n",
              "    </tbody>\n",
              "</table>"
            ]
          },
          "metadata": {},
          "execution_count": 4
        }
      ]
    },
    {
      "cell_type": "markdown",
      "source": [
        "2. ¿Cuáles son los nombres de los barcos y sus cuotas de aquellos barcos cuyo socio se llama 'Juan Pérez'?"
      ],
      "metadata": {
        "id": "mWRK4z1yl9-X"
      },
      "id": "mWRK4z1yl9-X"
    },
    {
      "cell_type": "code",
      "source": [
        "%%sql\n",
        "-- Ejercicio 1.2 s/Join\n",
        "SELECT Barcos.nombre, cuota\n",
        "FROM Barcos, Socios\n",
        "WHERE Socios.nombre = 'Juan Pérez' and Socios.id_socio = Barcos.id_socio;"
      ],
      "metadata": {
        "id": "cZyf9vCpmE-G",
        "colab": {
          "base_uri": "https://localhost:8080/",
          "height": 95
        },
        "outputId": "0138c564-3fb3-4c07-ef97-8cce86e321cd"
      },
      "id": "cZyf9vCpmE-G",
      "execution_count": 5,
      "outputs": [
        {
          "output_type": "stream",
          "name": "stdout",
          "text": [
            " * sqlite:///ejemplos.db\n",
            "Done.\n"
          ]
        },
        {
          "output_type": "execute_result",
          "data": {
            "text/plain": [
              "[('El Viento', 600.5)]"
            ],
            "text/html": [
              "<table>\n",
              "    <thead>\n",
              "        <tr>\n",
              "            <th>nombre</th>\n",
              "            <th>cuota</th>\n",
              "        </tr>\n",
              "    </thead>\n",
              "    <tbody>\n",
              "        <tr>\n",
              "            <td>El Viento</td>\n",
              "            <td>600.5</td>\n",
              "        </tr>\n",
              "    </tbody>\n",
              "</table>"
            ]
          },
          "metadata": {},
          "execution_count": 5
        }
      ]
    },
    {
      "cell_type": "markdown",
      "source": [
        "3. ¿Cuántas salidas ha realizado el barco con matrícula 'ABC123'?"
      ],
      "metadata": {
        "id": "pbpnGkeFmPkq"
      },
      "id": "pbpnGkeFmPkq"
    },
    {
      "cell_type": "code",
      "source": [
        "%%sql\n",
        "-- Ejercicio 1.3 s/Join\n",
        "SELECT COUNT(matricula)\n",
        "FROM Salidas\n",
        "WHERE matricula = 'ABC123'"
      ],
      "metadata": {
        "id": "nuj5n3DZmS3N",
        "colab": {
          "base_uri": "https://localhost:8080/",
          "height": 95
        },
        "outputId": "e9571611-0a66-4662-ec1d-504cbf1d2f3b"
      },
      "id": "nuj5n3DZmS3N",
      "execution_count": 6,
      "outputs": [
        {
          "output_type": "stream",
          "name": "stdout",
          "text": [
            " * sqlite:///ejemplos.db\n",
            "Done.\n"
          ]
        },
        {
          "output_type": "execute_result",
          "data": {
            "text/plain": [
              "[(1,)]"
            ],
            "text/html": [
              "<table>\n",
              "    <thead>\n",
              "        <tr>\n",
              "            <th>COUNT(matricula)</th>\n",
              "        </tr>\n",
              "    </thead>\n",
              "    <tbody>\n",
              "        <tr>\n",
              "            <td>1</td>\n",
              "        </tr>\n",
              "    </tbody>\n",
              "</table>"
            ]
          },
          "metadata": {},
          "execution_count": 6
        }
      ]
    },
    {
      "cell_type": "markdown",
      "source": [
        "4. Lista los barcos que tienen una cuota mayor a 500 y sus respectivos socios."
      ],
      "metadata": {
        "id": "GgyZ5pjymbXx"
      },
      "id": "GgyZ5pjymbXx"
    },
    {
      "cell_type": "code",
      "source": [
        "%%sql\n",
        "-- Ejercicio 1.4 s/Join\n",
        "SELECT (SELECT nombre FROM Socios WHERE id_socio = Barcos.id_socio) AS nombres_socios, cuota\n",
        "FROM Barcos\n",
        "WHERE cuota > 500;"
      ],
      "metadata": {
        "id": "szEj8t7WmcpA",
        "colab": {
          "base_uri": "https://localhost:8080/",
          "height": 221
        },
        "outputId": "d53cf3ab-5f02-456d-c0d1-5174ca165ea5"
      },
      "id": "szEj8t7WmcpA",
      "execution_count": 7,
      "outputs": [
        {
          "output_type": "stream",
          "name": "stdout",
          "text": [
            " * sqlite:///ejemplos.db\n",
            "Done.\n"
          ]
        },
        {
          "output_type": "execute_result",
          "data": {
            "text/plain": [
              "[('Juan Pérez', 600.5),\n",
              " ('Luis Fernández', 700),\n",
              " ('Laura Sánchez', 550.75),\n",
              " ('Carlos López', 620.3),\n",
              " ('Marta Díaz', 780.9),\n",
              " ('Lucía Jiménez', 520.5),\n",
              " ('Fernando Martín', 630.8)]"
            ],
            "text/html": [
              "<table>\n",
              "    <thead>\n",
              "        <tr>\n",
              "            <th>nombres_socios</th>\n",
              "            <th>cuota</th>\n",
              "        </tr>\n",
              "    </thead>\n",
              "    <tbody>\n",
              "        <tr>\n",
              "            <td>Juan Pérez</td>\n",
              "            <td>600.5</td>\n",
              "        </tr>\n",
              "        <tr>\n",
              "            <td>Luis Fernández</td>\n",
              "            <td>700</td>\n",
              "        </tr>\n",
              "        <tr>\n",
              "            <td>Laura Sánchez</td>\n",
              "            <td>550.75</td>\n",
              "        </tr>\n",
              "        <tr>\n",
              "            <td>Carlos López</td>\n",
              "            <td>620.3</td>\n",
              "        </tr>\n",
              "        <tr>\n",
              "            <td>Marta Díaz</td>\n",
              "            <td>780.9</td>\n",
              "        </tr>\n",
              "        <tr>\n",
              "            <td>Lucía Jiménez</td>\n",
              "            <td>520.5</td>\n",
              "        </tr>\n",
              "        <tr>\n",
              "            <td>Fernando Martín</td>\n",
              "            <td>630.8</td>\n",
              "        </tr>\n",
              "    </tbody>\n",
              "</table>"
            ]
          },
          "metadata": {},
          "execution_count": 7
        }
      ]
    },
    {
      "cell_type": "markdown",
      "source": [],
      "metadata": {
        "id": "BuvaT17Xlbe_"
      },
      "id": "BuvaT17Xlbe_"
    },
    {
      "cell_type": "markdown",
      "source": [
        "5. ¿Qué barcos han salido con destino a 'Mallorca'?"
      ],
      "metadata": {
        "id": "pTl4-C4ymjpp"
      },
      "id": "pTl4-C4ymjpp"
    },
    {
      "cell_type": "code",
      "source": [
        "%%sql\n",
        "-- Ejercicio 1.5 s/Join\n",
        "SELECT nombre, matricula\n",
        "FROM Barcos\n",
        "WHERE matricula IN (SELECT matricula\n",
        "                    FROM Salidas\n",
        "                    WHERE destino = 'Mallorca');"
      ],
      "metadata": {
        "id": "tzlnW9Etmo8L",
        "colab": {
          "base_uri": "https://localhost:8080/",
          "height": 137
        },
        "outputId": "e9fd7e34-6bfb-4cb8-8756-f385a10536e5"
      },
      "id": "tzlnW9Etmo8L",
      "execution_count": 8,
      "outputs": [
        {
          "output_type": "stream",
          "name": "stdout",
          "text": [
            " * sqlite:///ejemplos.db\n",
            "Done.\n"
          ]
        },
        {
          "output_type": "execute_result",
          "data": {
            "text/plain": [
              "[('El Viento', 'ABC123'), ('El Mar', 'JKL012'), ('El Horizonte', 'PQR678')]"
            ],
            "text/html": [
              "<table>\n",
              "    <thead>\n",
              "        <tr>\n",
              "            <th>nombre</th>\n",
              "            <th>matricula</th>\n",
              "        </tr>\n",
              "    </thead>\n",
              "    <tbody>\n",
              "        <tr>\n",
              "            <td>El Viento</td>\n",
              "            <td>ABC123</td>\n",
              "        </tr>\n",
              "        <tr>\n",
              "            <td>El Mar</td>\n",
              "            <td>JKL012</td>\n",
              "        </tr>\n",
              "        <tr>\n",
              "            <td>El Horizonte</td>\n",
              "            <td>PQR678</td>\n",
              "        </tr>\n",
              "    </tbody>\n",
              "</table>"
            ]
          },
          "metadata": {},
          "execution_count": 8
        }
      ]
    },
    {
      "cell_type": "markdown",
      "source": [
        "6. ¿Qué patrones (nombre y dirección) han llevado un barco cuyo socio vive en 'Barcelona'?"
      ],
      "metadata": {
        "id": "GsLPyY6WmtEn"
      },
      "id": "GsLPyY6WmtEn"
    },
    {
      "cell_type": "code",
      "source": [
        "%%sql\n",
        "-- Ejercicio 1.6 s/Join\n",
        "SELECT patron_nombre, patron_direccion\n",
        "FROM Salidas\n",
        "WHERE matricula IN (\n",
        "    SELECT matricula\n",
        "    FROM Barcos\n",
        "    WHERE id_socio IN (\n",
        "        SELECT id_socio\n",
        "        FROM Socios\n",
        "        WHERE patron_direccion LIKE '%Barcelona%'\n",
        "        )\n",
        ");"
      ],
      "metadata": {
        "id": "AZJDPqvbmvOK",
        "colab": {
          "base_uri": "https://localhost:8080/",
          "height": 116
        },
        "outputId": "82d140d8-f1f4-4286-c2c1-322e7189d159"
      },
      "id": "AZJDPqvbmvOK",
      "execution_count": 9,
      "outputs": [
        {
          "output_type": "stream",
          "name": "stdout",
          "text": [
            " * sqlite:///ejemplos.db\n",
            "Done.\n"
          ]
        },
        {
          "output_type": "execute_result",
          "data": {
            "text/plain": [
              "[('Patrón 4', 'Plaza del Faro 5, Barcelona'),\n",
              " ('Patrón 7', 'Avenida de la Marina 7, Barcelona')]"
            ],
            "text/html": [
              "<table>\n",
              "    <thead>\n",
              "        <tr>\n",
              "            <th>patron_nombre</th>\n",
              "            <th>patron_direccion</th>\n",
              "        </tr>\n",
              "    </thead>\n",
              "    <tbody>\n",
              "        <tr>\n",
              "            <td>Patrón 4</td>\n",
              "            <td>Plaza del Faro 5, Barcelona</td>\n",
              "        </tr>\n",
              "        <tr>\n",
              "            <td>Patrón 7</td>\n",
              "            <td>Avenida de la Marina 7, Barcelona</td>\n",
              "        </tr>\n",
              "    </tbody>\n",
              "</table>"
            ]
          },
          "metadata": {},
          "execution_count": 9
        }
      ]
    },
    {
      "cell_type": "markdown",
      "source": [
        "### Resolver nuevamentos los incisos, pero ahora usa JOIN\n",
        "1. ¿Qué socios tienen barcos amarrados en un número de amarre mayor que 10?"
      ],
      "metadata": {
        "id": "ox9iE2T6j6Qe"
      },
      "id": "ox9iE2T6j6Qe"
    },
    {
      "cell_type": "code",
      "source": [
        "%%sql\n",
        "-- Ejercicio 1.1 c/Join\n",
        "SELECT Socios.id_socio\n",
        "FROM Socios INNER\n",
        "JOIN Barcos ON Socios.id_socio = Barcos.id_socio and Barcos.numero_amarre > 10"
      ],
      "metadata": {
        "id": "GLzT8mCxALp4",
        "colab": {
          "base_uri": "https://localhost:8080/",
          "height": 179
        },
        "outputId": "f163de7a-f9ee-4ede-a3e0-d1bda40b64d6"
      },
      "id": "GLzT8mCxALp4",
      "execution_count": 10,
      "outputs": [
        {
          "output_type": "stream",
          "name": "stdout",
          "text": [
            " * sqlite:///ejemplos.db\n",
            "Done.\n"
          ]
        },
        {
          "output_type": "execute_result",
          "data": {
            "text/plain": [
              "[(1,), (3,), (5,), (6,), (9,)]"
            ],
            "text/html": [
              "<table>\n",
              "    <thead>\n",
              "        <tr>\n",
              "            <th>id_socio</th>\n",
              "        </tr>\n",
              "    </thead>\n",
              "    <tbody>\n",
              "        <tr>\n",
              "            <td>1</td>\n",
              "        </tr>\n",
              "        <tr>\n",
              "            <td>3</td>\n",
              "        </tr>\n",
              "        <tr>\n",
              "            <td>5</td>\n",
              "        </tr>\n",
              "        <tr>\n",
              "            <td>6</td>\n",
              "        </tr>\n",
              "        <tr>\n",
              "            <td>9</td>\n",
              "        </tr>\n",
              "    </tbody>\n",
              "</table>"
            ]
          },
          "metadata": {},
          "execution_count": 10
        }
      ]
    },
    {
      "cell_type": "markdown",
      "source": [
        "2. ¿Cuáles son los nombres de los barcos y sus cuotas de aquellos barcos cuyo socio se llama 'Juan Pérez'?"
      ],
      "metadata": {
        "id": "mJJkAhkVAw4N"
      },
      "id": "mJJkAhkVAw4N"
    },
    {
      "cell_type": "code",
      "source": [
        "%%sql\n",
        "-- Ejercicio 1.2 c/Join\n",
        "SELECT Barcos.nombre, cuota\n",
        "FROM Barcos LEFT\n",
        "JOIN Socios ON Barcos.id_socio = Socios.id_socio WHERE Socios.nombre = 'Juan Pérez'"
      ],
      "metadata": {
        "id": "PnZz1YO8A-tk",
        "colab": {
          "base_uri": "https://localhost:8080/",
          "height": 95
        },
        "outputId": "2564d6c0-100a-4481-8815-c5f746958ed6"
      },
      "id": "PnZz1YO8A-tk",
      "execution_count": 11,
      "outputs": [
        {
          "output_type": "stream",
          "name": "stdout",
          "text": [
            " * sqlite:///ejemplos.db\n",
            "Done.\n"
          ]
        },
        {
          "output_type": "execute_result",
          "data": {
            "text/plain": [
              "[('El Viento', 600.5)]"
            ],
            "text/html": [
              "<table>\n",
              "    <thead>\n",
              "        <tr>\n",
              "            <th>nombre</th>\n",
              "            <th>cuota</th>\n",
              "        </tr>\n",
              "    </thead>\n",
              "    <tbody>\n",
              "        <tr>\n",
              "            <td>El Viento</td>\n",
              "            <td>600.5</td>\n",
              "        </tr>\n",
              "    </tbody>\n",
              "</table>"
            ]
          },
          "metadata": {},
          "execution_count": 11
        }
      ]
    },
    {
      "cell_type": "markdown",
      "source": [
        "3. ¿Cuántas salidas ha realizado el barco con matrícula 'ABC123'?"
      ],
      "metadata": {
        "id": "yk0e4EqFA2Wi"
      },
      "id": "yk0e4EqFA2Wi"
    },
    {
      "cell_type": "code",
      "source": [
        "%%sql\n",
        "-- Ejercicio 1.3 c/Join\n",
        "SELECT COUNT(Salidas.matricula)\n",
        "FROM Salidas LEFT\n",
        "JOIN Barcos ON Salidas.matricula = Barcos.matricula\n",
        "WHERE Barcos.matricula = 'ABC123'"
      ],
      "metadata": {
        "id": "DnZcgiyAA7IX",
        "colab": {
          "base_uri": "https://localhost:8080/",
          "height": 95
        },
        "outputId": "52e4c224-2a77-4ce4-8a60-d1ffeb8f3b0c"
      },
      "id": "DnZcgiyAA7IX",
      "execution_count": 12,
      "outputs": [
        {
          "output_type": "stream",
          "name": "stdout",
          "text": [
            " * sqlite:///ejemplos.db\n",
            "Done.\n"
          ]
        },
        {
          "output_type": "execute_result",
          "data": {
            "text/plain": [
              "[(1,)]"
            ],
            "text/html": [
              "<table>\n",
              "    <thead>\n",
              "        <tr>\n",
              "            <th>COUNT(Salidas.matricula)</th>\n",
              "        </tr>\n",
              "    </thead>\n",
              "    <tbody>\n",
              "        <tr>\n",
              "            <td>1</td>\n",
              "        </tr>\n",
              "    </tbody>\n",
              "</table>"
            ]
          },
          "metadata": {},
          "execution_count": 12
        }
      ]
    },
    {
      "cell_type": "markdown",
      "source": [
        "4. Lista los barcos que tienen una cuota mayor a 500 y sus respectivos socios."
      ],
      "metadata": {
        "id": "Qeloyr4lBBNt"
      },
      "id": "Qeloyr4lBBNt"
    },
    {
      "cell_type": "code",
      "source": [
        "%%sql\n",
        "-- Ejercicio 1.4 c/Join\n",
        "SELECT Barcos.nombre AS nombre_barco, Barcos.cuota, Socios.nombre AS nombre_socio\n",
        "FROM Barcos\n",
        "JOIN Socios ON Barcos.id_socio = Socios.id_socio\n",
        "WHERE Barcos.cuota > 500;"
      ],
      "metadata": {
        "id": "nfsIe3C3BCkR",
        "colab": {
          "base_uri": "https://localhost:8080/",
          "height": 221
        },
        "outputId": "8f01ce69-0d2d-449a-bdab-81c5e6f4d86f"
      },
      "id": "nfsIe3C3BCkR",
      "execution_count": 13,
      "outputs": [
        {
          "output_type": "stream",
          "name": "stdout",
          "text": [
            " * sqlite:///ejemplos.db\n",
            "Done.\n"
          ]
        },
        {
          "output_type": "execute_result",
          "data": {
            "text/plain": [
              "[('El Viento', 600.5, 'Juan Pérez'),\n",
              " ('El Sol', 700, 'Luis Fernández'),\n",
              " ('El Mar', 550.75, 'Laura Sánchez'),\n",
              " ('La Luna', 620.3, 'Carlos López'),\n",
              " ('El Horizonte', 780.9, 'Marta Díaz'),\n",
              " ('La Estrella', 520.5, 'Lucía Jiménez'),\n",
              " ('El Océano', 630.8, 'Fernando Martín')]"
            ],
            "text/html": [
              "<table>\n",
              "    <thead>\n",
              "        <tr>\n",
              "            <th>nombre_barco</th>\n",
              "            <th>cuota</th>\n",
              "            <th>nombre_socio</th>\n",
              "        </tr>\n",
              "    </thead>\n",
              "    <tbody>\n",
              "        <tr>\n",
              "            <td>El Viento</td>\n",
              "            <td>600.5</td>\n",
              "            <td>Juan Pérez</td>\n",
              "        </tr>\n",
              "        <tr>\n",
              "            <td>El Sol</td>\n",
              "            <td>700</td>\n",
              "            <td>Luis Fernández</td>\n",
              "        </tr>\n",
              "        <tr>\n",
              "            <td>El Mar</td>\n",
              "            <td>550.75</td>\n",
              "            <td>Laura Sánchez</td>\n",
              "        </tr>\n",
              "        <tr>\n",
              "            <td>La Luna</td>\n",
              "            <td>620.3</td>\n",
              "            <td>Carlos López</td>\n",
              "        </tr>\n",
              "        <tr>\n",
              "            <td>El Horizonte</td>\n",
              "            <td>780.9</td>\n",
              "            <td>Marta Díaz</td>\n",
              "        </tr>\n",
              "        <tr>\n",
              "            <td>La Estrella</td>\n",
              "            <td>520.5</td>\n",
              "            <td>Lucía Jiménez</td>\n",
              "        </tr>\n",
              "        <tr>\n",
              "            <td>El Océano</td>\n",
              "            <td>630.8</td>\n",
              "            <td>Fernando Martín</td>\n",
              "        </tr>\n",
              "    </tbody>\n",
              "</table>"
            ]
          },
          "metadata": {},
          "execution_count": 13
        }
      ]
    },
    {
      "cell_type": "markdown",
      "source": [
        "5. ¿Qué barcos han salido con destino a 'Mallorca'?"
      ],
      "metadata": {
        "id": "GMqo1KlDBFwm"
      },
      "id": "GMqo1KlDBFwm"
    },
    {
      "cell_type": "code",
      "source": [
        "%%sql\n",
        "-- Ejercicio 1.5 c/Join\n",
        "SELECT Barcos.nombre, Barcos.matricula\n",
        "FROM Barcos\n",
        "JOIN Salidas ON Barcos.matricula=Salidas.matricula\n",
        "WHERE Salidas.destino = 'Mallorca';"
      ],
      "metadata": {
        "id": "etjf3fFgBFd-",
        "colab": {
          "base_uri": "https://localhost:8080/",
          "height": 137
        },
        "outputId": "55a63792-e610-4e52-a83f-33537de96daf"
      },
      "id": "etjf3fFgBFd-",
      "execution_count": 14,
      "outputs": [
        {
          "output_type": "stream",
          "name": "stdout",
          "text": [
            " * sqlite:///ejemplos.db\n",
            "Done.\n"
          ]
        },
        {
          "output_type": "execute_result",
          "data": {
            "text/plain": [
              "[('El Viento', 'ABC123'), ('El Mar', 'JKL012'), ('El Horizonte', 'PQR678')]"
            ],
            "text/html": [
              "<table>\n",
              "    <thead>\n",
              "        <tr>\n",
              "            <th>nombre</th>\n",
              "            <th>matricula</th>\n",
              "        </tr>\n",
              "    </thead>\n",
              "    <tbody>\n",
              "        <tr>\n",
              "            <td>El Viento</td>\n",
              "            <td>ABC123</td>\n",
              "        </tr>\n",
              "        <tr>\n",
              "            <td>El Mar</td>\n",
              "            <td>JKL012</td>\n",
              "        </tr>\n",
              "        <tr>\n",
              "            <td>El Horizonte</td>\n",
              "            <td>PQR678</td>\n",
              "        </tr>\n",
              "    </tbody>\n",
              "</table>"
            ]
          },
          "metadata": {},
          "execution_count": 14
        }
      ]
    },
    {
      "cell_type": "markdown",
      "source": [
        "6. ¿Qué patrones (nombre y dirección) han llevado un barco cuyo socio vive en 'Barcelona'?"
      ],
      "metadata": {
        "id": "4rDZTOCSBJQJ"
      },
      "id": "4rDZTOCSBJQJ"
    },
    {
      "cell_type": "code",
      "source": [
        "%%sql\n",
        "-- Ejercicio 1.6 c/Join\n",
        "SELECT Salidas.patron_nombre, Salidas.patron_direccion\n",
        "FROM Salidas\n",
        "JOIN Barcos ON Salidas.matricula = Barcos.matricula\n",
        "JOIN Socios ON Barcos.id_socio = Socios.id_socio\n",
        "WHERE Salidas.patron_direccion LIKE '%Barcelona%';"
      ],
      "metadata": {
        "id": "s6MRh7hHBKMb",
        "colab": {
          "base_uri": "https://localhost:8080/",
          "height": 116
        },
        "outputId": "52e7f9fa-3763-4b70-8879-19f063dcac2e"
      },
      "id": "s6MRh7hHBKMb",
      "execution_count": 12,
      "outputs": [
        {
          "output_type": "stream",
          "name": "stdout",
          "text": [
            " * sqlite:///ejemplos.db\n",
            "Done.\n"
          ]
        },
        {
          "output_type": "execute_result",
          "data": {
            "text/plain": [
              "[('Patrón 4', 'Plaza del Faro 5, Barcelona'),\n",
              " ('Patrón 7', 'Avenida de la Marina 7, Barcelona')]"
            ],
            "text/html": [
              "<table>\n",
              "    <thead>\n",
              "        <tr>\n",
              "            <th>patron_nombre</th>\n",
              "            <th>patron_direccion</th>\n",
              "        </tr>\n",
              "    </thead>\n",
              "    <tbody>\n",
              "        <tr>\n",
              "            <td>Patrón 4</td>\n",
              "            <td>Plaza del Faro 5, Barcelona</td>\n",
              "        </tr>\n",
              "        <tr>\n",
              "            <td>Patrón 7</td>\n",
              "            <td>Avenida de la Marina 7, Barcelona</td>\n",
              "        </tr>\n",
              "    </tbody>\n",
              "</table>"
            ]
          },
          "metadata": {},
          "execution_count": 12
        }
      ]
    },
    {
      "cell_type": "markdown",
      "id": "d3111595",
      "metadata": {
        "id": "d3111595"
      },
      "source": [
        "\n",
        "## EJERCICIO 2: Base de datos para un gabinete de abogados\n",
        "\n",
        "### Descripción:\n",
        "Se quiere diseñar una base de datos relacional para almacenar información sobre los asuntos que lleva un gabinete de abogados. Cada asunto tiene un número de expediente que lo identifica y corresponde a un solo cliente. Del asunto se debe almacenar:\n",
        "- Período (fecha de inicio y fecha de archivo o finalización)\n",
        "- Estado (en trámite, archivado, etc.)\n",
        "- Datos personales del cliente (DNI, nombre, dirección, etc.)\n",
        "\n",
        "Algunos asuntos son llevados por uno o varios procuradores, de los que nos interesa también almacenar los datos personales.\n",
        "\n",
        "### Esquema propuesto:\n",
        "- Tabla `Clientes`: Almacena la información de los clientes: dni (clave primaria), nombre y dirección.\n",
        "- Tabla `Asuntos`: Almacena la información de los asuntos: numero de expediente (clave primaria), dni del cliente (clave externa), fecha de inicio, fecha de fin y estado (Abierto o Cerrado). Si el asunto está abierto, no tiene fecha de fin.\n",
        "- Tabla `Procuradores`: Almacena la información de los procuradores: id del procurador (clave priaria), nombre y dirección.\n",
        "- Tabla `Asuntos_Procuradores`: Relaciona los asuntos con los procuradores (muchos a muchos).\n",
        "\n",
        "### SQL para crear las tablas:\n"
      ]
    },
    {
      "cell_type": "code",
      "source": [
        "%%sql\n",
        "CREATE TABLE Clientes(\n",
        "  dni VARCHAR(10) PRIMARY KEY,\n",
        "  nombre VARCHAR(100),\n",
        "  direccion VARCHAR(255)\n",
        ");\n",
        "\n",
        "CREATE TABLE Asuntos(\n",
        "  numero_expediente INT PRIMARY KEY,\n",
        "  dni_cliente VARCHAR(10) REFERENCES Clientes(dni),\n",
        "  fecha_inicio DATE,\n",
        "  fecha_fin DATE,\n",
        "  estado VARCHAR(20)\n",
        ");\n",
        "\n",
        "CREATE TABLE Procuradores(\n",
        "  id_procurador INT PRIMARY KEY,\n",
        "  nombre VARCHAR(100),\n",
        "  direccion VARCHAR (255)\n",
        ");\n",
        "\n",
        "CREATE TABLE Asuntos_Procuradores(\n",
        "  id_asunto INT REFERENCES Asuntos(numero_expediente),\n",
        "  id_procurador INT REFERENCES Procuradores(id_procurador)\n",
        ");"
      ],
      "metadata": {
        "id": "QtKIwysZeNtz",
        "colab": {
          "base_uri": "https://localhost:8080/"
        },
        "outputId": "4dd2bd3f-fa01-44b9-c6c1-656f927a4a8a"
      },
      "id": "QtKIwysZeNtz",
      "execution_count": 2,
      "outputs": [
        {
          "output_type": "stream",
          "name": "stdout",
          "text": [
            " * sqlite:///ejemplos.db\n",
            "Done.\n",
            "Done.\n",
            "Done.\n",
            "Done.\n"
          ]
        },
        {
          "output_type": "execute_result",
          "data": {
            "text/plain": [
              "[]"
            ]
          },
          "metadata": {},
          "execution_count": 2
        }
      ]
    },
    {
      "cell_type": "markdown",
      "source": [],
      "metadata": {
        "id": "Yhom8Hjlesap"
      },
      "id": "Yhom8Hjlesap"
    },
    {
      "cell_type": "code",
      "source": [
        "%%sql\n",
        "-- Poblar la tabla Clientes\n",
        "INSERT INTO Clientes (dni, nombre, direccion)\n",
        "VALUES\n",
        "('123456789', 'Juan Pérez', 'Calle Pueyrredón 3498, Buenos Aires'),\n",
        "('987654321', 'Ana García', 'Calle 5 323, La Plata'),\n",
        "('456123789', 'Luis Fernández', 'Avenida de Gral. Paz 1056, Bahía Blanca');\n",
        "\n",
        "-- Poblar la tabla Asuntos\n",
        "INSERT INTO Asuntos (numero_expediente, dni_cliente, fecha_inicio, fecha_fin, estado)\n",
        "VALUES\n",
        "(1, '123456789', '2023-01-15', '2023-07-20', 'Cerrado'),\n",
        "(2, '987654321', '2023-05-10', NULL, 'Abierto'),\n",
        "(3, '456123789', '2023-06-01', '2023-09-10', 'Cerrado');\n",
        "\n",
        "-- Poblar la tabla Procuradores\n",
        "INSERT INTO Procuradores (id_procurador, nombre, direccion)\n",
        "VALUES\n",
        "(1, 'Laura Sánchez', 'Calle Soler 3765, Buenos Aires'),\n",
        "(2, 'Carlos López', 'Calle Estrellas 8, Mar del Plata'),\n",
        "(3, 'Marta Díaz', 'Calle Estación 12, Olavarria');\n",
        "\n",
        "-- Poblar la tabla Asuntos_Procuradores\n",
        "INSERT INTO Asuntos_Procuradores (id_asunto, id_procurador)\n",
        "VALUES\n",
        "(1, 1),\n",
        "(2, 2),\n",
        "(3, 3),\n",
        "(2, 1);  -- Un asunto puede tener varios procuradores"
      ],
      "metadata": {
        "id": "5o4a19qHetVz",
        "colab": {
          "base_uri": "https://localhost:8080/"
        },
        "outputId": "271b4476-2786-4e32-ac63-3065fe31747b"
      },
      "id": "5o4a19qHetVz",
      "execution_count": 3,
      "outputs": [
        {
          "output_type": "stream",
          "name": "stdout",
          "text": [
            " * sqlite:///ejemplos.db\n",
            "3 rows affected.\n",
            "3 rows affected.\n",
            "3 rows affected.\n",
            "4 rows affected.\n"
          ]
        },
        {
          "output_type": "execute_result",
          "data": {
            "text/plain": [
              "[]"
            ]
          },
          "metadata": {},
          "execution_count": 3
        }
      ]
    },
    {
      "cell_type": "markdown",
      "source": [
        "### Resolver estas consignas usando _únicamente_ JOIN en las consultas:\n",
        "1. ¿Cuál es el nombre y la dirección de los procuradores que han trabajado en un asunto abierto?"
      ],
      "metadata": {
        "id": "OvOaPQYTgkBJ"
      },
      "id": "OvOaPQYTgkBJ"
    },
    {
      "cell_type": "code",
      "source": [
        "%%sql\n",
        "-- Ejercicio 2.1 Join\n",
        "SELECT Procuradores.nombre, Procuradores.direccion\n",
        "FROM Procuradores\n",
        "JOIN Asuntos_Procuradores ON Procuradores.id_procurador = Asuntos_Procuradores.id_procurador\n",
        "JOIN Asuntos ON Asuntos_Procuradores.id_asunto = Asuntos.numero_expediente\n",
        "WHERE Asuntos.estado = 'Abierto';\n"
      ],
      "metadata": {
        "id": "ZO891c6ZgrZm",
        "colab": {
          "base_uri": "https://localhost:8080/",
          "height": 116
        },
        "outputId": "1bd0894d-eaa6-4ec2-b20b-3320bf697ff0"
      },
      "id": "ZO891c6ZgrZm",
      "execution_count": 7,
      "outputs": [
        {
          "output_type": "stream",
          "name": "stdout",
          "text": [
            " * sqlite:///ejemplos.db\n",
            "Done.\n"
          ]
        },
        {
          "output_type": "execute_result",
          "data": {
            "text/plain": [
              "[('Carlos López', 'Calle Estrellas 8, Mar del Plata'),\n",
              " ('Laura Sánchez', 'Calle Soler 3765, Buenos Aires')]"
            ],
            "text/html": [
              "<table>\n",
              "    <thead>\n",
              "        <tr>\n",
              "            <th>nombre</th>\n",
              "            <th>direccion</th>\n",
              "        </tr>\n",
              "    </thead>\n",
              "    <tbody>\n",
              "        <tr>\n",
              "            <td>Carlos López</td>\n",
              "            <td>Calle Estrellas 8, Mar del Plata</td>\n",
              "        </tr>\n",
              "        <tr>\n",
              "            <td>Laura Sánchez</td>\n",
              "            <td>Calle Soler 3765, Buenos Aires</td>\n",
              "        </tr>\n",
              "    </tbody>\n",
              "</table>"
            ]
          },
          "metadata": {},
          "execution_count": 7
        }
      ]
    },
    {
      "cell_type": "markdown",
      "source": [
        "2. ¿Qué clientes han tenido asuntos en los que ha participado el procurador Carlos López?"
      ],
      "metadata": {
        "id": "Y5qojbXWg9mh"
      },
      "id": "Y5qojbXWg9mh"
    },
    {
      "cell_type": "code",
      "source": [
        "%%sql\n",
        "-- Ejercicio 2.2 Join\n",
        "SELECT Clientes.nombre, Clientes.direccion\n",
        "FROM Clientes\n",
        "JOIN Asuntos ON Clientes.dni = Asuntos.dni_cliente\n",
        "JOIN Asuntos_Procuradores ON Asuntos.numero_expediente = Asuntos_Procuradores.id_asunto\n",
        "JOIN Procuradores ON Asuntos_Procuradores.id_procurador = Procuradores.id_procurador\n",
        "WHERE Procuradores.nombre = 'Carlos López';\n"
      ],
      "metadata": {
        "id": "JlQjPghDhBrj",
        "colab": {
          "base_uri": "https://localhost:8080/",
          "height": 95
        },
        "outputId": "1f1212ae-feeb-43ba-edda-e5771eca2d97"
      },
      "id": "JlQjPghDhBrj",
      "execution_count": 8,
      "outputs": [
        {
          "output_type": "stream",
          "name": "stdout",
          "text": [
            " * sqlite:///ejemplos.db\n",
            "Done.\n"
          ]
        },
        {
          "output_type": "execute_result",
          "data": {
            "text/plain": [
              "[('Ana García', 'Calle 5 323, La Plata')]"
            ],
            "text/html": [
              "<table>\n",
              "    <thead>\n",
              "        <tr>\n",
              "            <th>nombre</th>\n",
              "            <th>direccion</th>\n",
              "        </tr>\n",
              "    </thead>\n",
              "    <tbody>\n",
              "        <tr>\n",
              "            <td>Ana García</td>\n",
              "            <td>Calle 5 323, La Plata</td>\n",
              "        </tr>\n",
              "    </tbody>\n",
              "</table>"
            ]
          },
          "metadata": {},
          "execution_count": 8
        }
      ]
    },
    {
      "cell_type": "markdown",
      "source": [
        "3. ¿Cuántos asuntos ha gestionado cada procurador?"
      ],
      "metadata": {
        "id": "1NfxB7M6hKsX"
      },
      "id": "1NfxB7M6hKsX"
    },
    {
      "cell_type": "code",
      "source": [
        "%%sql\n",
        "-- Ejercicio 2.3 Join\n",
        "SELECT Procuradores.nombre, COUNT(Asuntos_Procuradores.id_asunto) AS numero_asuntos\n",
        "FROM Procuradores\n",
        "LEFT JOIN Asuntos_Procuradores ON Procuradores.id_procurador = Asuntos_Procuradores.id_procurador\n",
        "GROUP BY Procuradores.nombre;"
      ],
      "metadata": {
        "id": "kZHFCFX0hS5-",
        "colab": {
          "base_uri": "https://localhost:8080/",
          "height": 139
        },
        "outputId": "ad4a4386-82c6-498d-a4bb-df2131e8026d"
      },
      "id": "kZHFCFX0hS5-",
      "execution_count": null,
      "outputs": [
        {
          "output_type": "stream",
          "name": "stdout",
          "text": [
            " * sqlite:///ejemplos.db\n",
            "Done.\n"
          ]
        },
        {
          "output_type": "execute_result",
          "data": {
            "text/plain": [
              "[('Carlos López', 1), ('Laura Sánchez', 2), ('Marta Díaz', 1)]"
            ],
            "text/html": [
              "<table>\n",
              "    <thead>\n",
              "        <tr>\n",
              "            <th>nombre</th>\n",
              "            <th>numero_asuntos</th>\n",
              "        </tr>\n",
              "    </thead>\n",
              "    <tbody>\n",
              "        <tr>\n",
              "            <td>Carlos López</td>\n",
              "            <td>1</td>\n",
              "        </tr>\n",
              "        <tr>\n",
              "            <td>Laura Sánchez</td>\n",
              "            <td>2</td>\n",
              "        </tr>\n",
              "        <tr>\n",
              "            <td>Marta Díaz</td>\n",
              "            <td>1</td>\n",
              "        </tr>\n",
              "    </tbody>\n",
              "</table>"
            ]
          },
          "metadata": {},
          "execution_count": 6
        }
      ]
    },
    {
      "cell_type": "markdown",
      "source": [
        "4. Lista los números de expediente y fechas de inicio de los asuntos de los clientes que viven en Buenos Aires."
      ],
      "metadata": {
        "id": "zHUFuerKhjc2"
      },
      "id": "zHUFuerKhjc2"
    },
    {
      "cell_type": "code",
      "source": [
        "%%sql\n",
        "-- Ejercicio 2.4 Join\n",
        "SELECT A.numero_expediente, A.fecha_inicio\n",
        "FROM Asuntos A\n",
        "JOIN Clientes C ON A.dni_cliente = C.dni\n",
        "WHERE C.direccion LIKE '%Buenos Aires%';\n"
      ],
      "metadata": {
        "id": "9RDQt_5lipod",
        "colab": {
          "base_uri": "https://localhost:8080/",
          "height": 95
        },
        "outputId": "43cdde52-9219-476b-b44a-a98d8ca18c97"
      },
      "id": "9RDQt_5lipod",
      "execution_count": 4,
      "outputs": [
        {
          "output_type": "stream",
          "name": "stdout",
          "text": [
            " * sqlite:///ejemplos.db\n",
            "Done.\n"
          ]
        },
        {
          "output_type": "execute_result",
          "data": {
            "text/plain": [
              "[(1, '2023-01-15')]"
            ],
            "text/html": [
              "<table>\n",
              "    <thead>\n",
              "        <tr>\n",
              "            <th>numero_expediente</th>\n",
              "            <th>fecha_inicio</th>\n",
              "        </tr>\n",
              "    </thead>\n",
              "    <tbody>\n",
              "        <tr>\n",
              "            <td>1</td>\n",
              "            <td>2023-01-15</td>\n",
              "        </tr>\n",
              "    </tbody>\n",
              "</table>"
            ]
          },
          "metadata": {},
          "execution_count": 4
        }
      ]
    },
    {
      "cell_type": "markdown",
      "source": [
        "# Entrega\n",
        "La entrega consiste en completar esta hoja y subirla a su repositorio GIT\n",
        "Se deben entregar también los diagramas de esquema de tablas como imagenes aparte.\n",
        "Fecha límite: 30 de septiembre a las 23:59 hs"
      ],
      "metadata": {
        "id": "aIF74m2eV9J9"
      },
      "id": "aIF74m2eV9J9"
    }
  ],
  "metadata": {
    "colab": {
      "provenance": []
    },
    "language_info": {
      "name": "python"
    },
    "kernelspec": {
      "name": "python3",
      "display_name": "Python 3"
    }
  },
  "nbformat": 4,
  "nbformat_minor": 5
}